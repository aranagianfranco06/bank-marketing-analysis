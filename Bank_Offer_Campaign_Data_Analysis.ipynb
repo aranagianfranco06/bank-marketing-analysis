{
  "nbformat": 4,
  "nbformat_minor": 0,
  "metadata": {
    "colab": {
      "provenance": []
    },
    "kernelspec": {
      "name": "python3",
      "display_name": "Python 3"
    },
    "language_info": {
      "name": "python"
    }
  },
  "cells": [
    {
      "cell_type": "markdown",
      "source": [
        "# Credit Scoring / Offer Acceptance Analysis\n",
        "**Author:** Gianfranco\n",
        "\n",
        "## Objective\n",
        "Predict and explain customer acceptance of bank offers.\n",
        "\n",
        "## Notebook structure\n",
        "1. Data summary\n",
        "2. Key visualizations\n",
        "3. Insights & conclusions\n",
        "4. Simple predictive model (Logistic Regression)\n",
        "5. Export artifacts (CSV, images)\n"
      ],
      "metadata": {
        "id": "h-pEyCn_IDnQ"
      }
    },
    {
      "cell_type": "code",
      "execution_count": 2,
      "metadata": {
        "colab": {
          "base_uri": "https://localhost:8080/"
        },
        "id": "GKgx4Iub1z4h",
        "outputId": "48117c46-a6c7-4d52-e356-d269039adeae"
      },
      "outputs": [
        {
          "output_type": "stream",
          "name": "stdout",
          "text": [
            "Loaded shape: (30001, 25)\n",
            "Columns: ['unnamed_0', 'x1', 'x2', 'x3', 'x4', 'x5', 'x6', 'x7', 'x8', 'x9', 'x10', 'x11', 'x12', 'x13', 'x14', 'x15', 'x16', 'x17', 'x18', 'x19', 'x20', 'x21', 'x22', 'x23', 'y']\n"
          ]
        }
      ],
      "source": [
        "# Clean load: read once, normalize column names\n",
        "import pandas as pd\n",
        "import numpy as np\n",
        "\n",
        "df = pd.read_csv('UCI_Credit_Card_Clients.csv', header=0)\n",
        "\n",
        "# Normalize column names: strip, lower and replace spaces with underscore\n",
        "df.columns = df.columns.str.strip().str.lower().str.replace(' ', '_').str.replace('[^0-9a-zA-Z_]', '', regex=True)\n",
        "\n",
        "print(\"Loaded shape:\", df.shape)\n",
        "print(\"Columns:\", df.columns.tolist()[:40])"
      ]
    },
    {
      "cell_type": "code",
      "source": [
        "# 3. Exploración Inicial (head, info) and 4. Limpieza de Columnas combined\n",
        "print(\"\\n--- Primeras 5 filas (df.head()) ---\")\n",
        "# Read the CSV without a header\n",
        "df = pd.read_csv('UCI_Credit_Card_Clients.csv') # Read with default header=None\n",
        "\n",
        "# Use the first row as column names and then drop it\n",
        "new_columns = df.iloc[0].tolist()\n",
        "df = df[1:].copy() # Use .copy() to avoid SettingWithCopyWarning\n",
        "df.columns = new_columns\n",
        "\n",
        "print(df.head())\n",
        "print(\"\\n--- Información de la estructura (df.info()) ---\")\n",
        "df.info()\n",
        "\n",
        "# Print the exact column names to help with debugging the rename issue\n",
        "print(\"\\n--- Exact Column Names ---\")\n",
        "print(df.columns.tolist())\n",
        "\n",
        "# Clean and rename columns\n",
        "df = df.rename(columns={'default payment next month': 'default',\n",
        "                        'LIMIT_BAL': 'credit_limit'})\n",
        "\n",
        "# Eliminamos columnas innecesarias ('ID' and the unnamed index)\n",
        "columns_to_drop = ['ID', 'Unnamed: 0']\n",
        "df = df.drop(columns=df.columns.intersection(columns_to_drop), axis=1)\n",
        "\n",
        "# 5. Verificación de Nulos y Balance de Clases\n",
        "print(\"\\n--- Conteo de Valores Faltantes (df.isna().sum()) ---\")\n",
        "print(f\"Total de valores faltantes: {df.isna().sum().sum()}\")\n",
        "\n",
        "print(\"\\n--- Balance de Clases de Default ---\")\n",
        "default_counts = df['default'].value_counts(normalize=True) * 100\n",
        "print(default_counts)\n",
        "print(f\"Conclusión: Observamos un desbalance de clases; solo el {default_counts.iloc[1]:.2f}% de los clientes incurre en default (1).\")"
      ],
      "metadata": {
        "colab": {
          "base_uri": "https://localhost:8080/"
        },
        "id": "h6mrslrw2lLi",
        "outputId": "1418149c-15e3-40d8-9d56-4f57fbb14f52"
      },
      "execution_count": null,
      "outputs": [
        {
          "output_type": "stream",
          "name": "stdout",
          "text": [
            "\n",
            "--- Primeras 5 filas (df.head()) ---\n",
            "  ID LIMIT_BAL SEX EDUCATION MARRIAGE AGE PAY_0 PAY_2 PAY_3 PAY_4  ...  \\\n",
            "1  1     20000   2         2        1  24     2     2    -1    -1  ...   \n",
            "2  2    120000   2         2        2  26    -1     2     0     0  ...   \n",
            "3  3     90000   2         2        2  34     0     0     0     0  ...   \n",
            "4  4     50000   2         2        1  37     0     0     0     0  ...   \n",
            "5  5     50000   1         2        1  57    -1     0    -1     0  ...   \n",
            "\n",
            "  BILL_AMT4 BILL_AMT5 BILL_AMT6 PAY_AMT1 PAY_AMT2 PAY_AMT3 PAY_AMT4 PAY_AMT5  \\\n",
            "1         0         0         0        0      689        0        0        0   \n",
            "2      3272      3455      3261        0     1000     1000     1000        0   \n",
            "3     14331     14948     15549     1518     1500     1000     1000     1000   \n",
            "4     28314     28959     29547     2000     2019     1200     1100     1069   \n",
            "5     20940     19146     19131     2000    36681    10000     9000      689   \n",
            "\n",
            "  PAY_AMT6 default payment next month  \n",
            "1        0                          1  \n",
            "2     2000                          1  \n",
            "3     5000                          0  \n",
            "4     1000                          0  \n",
            "5      679                          0  \n",
            "\n",
            "[5 rows x 25 columns]\n",
            "\n",
            "--- Información de la estructura (df.info()) ---\n",
            "<class 'pandas.core.frame.DataFrame'>\n",
            "RangeIndex: 30000 entries, 1 to 30000\n",
            "Data columns (total 25 columns):\n",
            " #   Column                      Non-Null Count  Dtype \n",
            "---  ------                      --------------  ----- \n",
            " 0   ID                          30000 non-null  object\n",
            " 1   LIMIT_BAL                   30000 non-null  object\n",
            " 2   SEX                         30000 non-null  object\n",
            " 3   EDUCATION                   30000 non-null  object\n",
            " 4   MARRIAGE                    30000 non-null  object\n",
            " 5   AGE                         30000 non-null  object\n",
            " 6   PAY_0                       30000 non-null  object\n",
            " 7   PAY_2                       30000 non-null  object\n",
            " 8   PAY_3                       30000 non-null  object\n",
            " 9   PAY_4                       30000 non-null  object\n",
            " 10  PAY_5                       30000 non-null  object\n",
            " 11  PAY_6                       30000 non-null  object\n",
            " 12  BILL_AMT1                   30000 non-null  object\n",
            " 13  BILL_AMT2                   30000 non-null  object\n",
            " 14  BILL_AMT3                   30000 non-null  object\n",
            " 15  BILL_AMT4                   30000 non-null  object\n",
            " 16  BILL_AMT5                   30000 non-null  object\n",
            " 17  BILL_AMT6                   30000 non-null  object\n",
            " 18  PAY_AMT1                    30000 non-null  object\n",
            " 19  PAY_AMT2                    30000 non-null  object\n",
            " 20  PAY_AMT3                    30000 non-null  object\n",
            " 21  PAY_AMT4                    30000 non-null  object\n",
            " 22  PAY_AMT5                    30000 non-null  object\n",
            " 23  PAY_AMT6                    30000 non-null  object\n",
            " 24  default payment next month  30000 non-null  object\n",
            "dtypes: object(25)\n",
            "memory usage: 5.7+ MB\n",
            "\n",
            "--- Exact Column Names ---\n",
            "['ID', 'LIMIT_BAL', 'SEX', 'EDUCATION', 'MARRIAGE', 'AGE', 'PAY_0', 'PAY_2', 'PAY_3', 'PAY_4', 'PAY_5', 'PAY_6', 'BILL_AMT1', 'BILL_AMT2', 'BILL_AMT3', 'BILL_AMT4', 'BILL_AMT5', 'BILL_AMT6', 'PAY_AMT1', 'PAY_AMT2', 'PAY_AMT3', 'PAY_AMT4', 'PAY_AMT5', 'PAY_AMT6', 'default payment next month']\n",
            "\n",
            "--- Conteo de Valores Faltantes (df.isna().sum()) ---\n",
            "Total de valores faltantes: 0\n",
            "\n",
            "--- Balance de Clases de Default ---\n",
            "default\n",
            "0    77.88\n",
            "1    22.12\n",
            "Name: proportion, dtype: float64\n",
            "Conclusión: Observamos un desbalance de clases; solo el 22.12% de los clientes incurre en default (1).\n"
          ]
        }
      ]
    },
    {
      "cell_type": "code",
      "metadata": {
        "colab": {
          "base_uri": "https://localhost:8080/"
        },
        "id": "b3be0922",
        "outputId": "25c16b02-23f1-41ef-c9dd-11af4f743e4f"
      },
      "source": [
        "# Show unique values for categorical columns\n",
        "categorical_cols = ['SEX', 'EDUCATION', 'MARRIAGE']\n",
        "\n",
        "for col in categorical_cols:\n",
        "    print(f\"\\n--- Unique values for '{col}' ---\")\n",
        "    print(df[col].unique())"
      ],
      "execution_count": null,
      "outputs": [
        {
          "output_type": "stream",
          "name": "stdout",
          "text": [
            "\n",
            "--- Unique values for 'SEX' ---\n",
            "['2' '1']\n",
            "\n",
            "--- Unique values for 'EDUCATION' ---\n",
            "['2' '1' '3' '5' '4' '6' '0']\n",
            "\n",
            "--- Unique values for 'MARRIAGE' ---\n",
            "['1' '2' '3' '0']\n"
          ]
        }
      ]
    },
    {
      "cell_type": "code",
      "source": [
        "# 1. Cleaning EDUCATION: Mapping all undocumented/other values to '4'\n",
        "# We use .astype(str) just to be 100% sure we are dealing with strings.\n",
        "df['EDUCATION'] = df['EDUCATION'].astype(str).replace(['0', '5', '6'], '4')\n",
        "\n",
        "# 2. Cleaning MARRIAGE: Mapping the undocumented value '0' to '3' (Other)\n",
        "df['MARRIAGE'] = df['MARRIAGE'].astype(str).replace(['0'], '3')\n",
        "\n",
        "# 3. Final Check\n",
        "print(\"\\n--- Final EDUCATION check ---\")\n",
        "print(df['EDUCATION'].value_counts())\n",
        "\n",
        "print(\"\\n--- Final MARRIAGE check ---\")\n",
        "print(df['MARRIAGE'].value_counts())"
      ],
      "metadata": {
        "colab": {
          "base_uri": "https://localhost:8080/"
        },
        "id": "bdjxMdbwB7mp",
        "outputId": "1c496873-b894-4d13-aabe-53b92134e36b"
      },
      "execution_count": null,
      "outputs": [
        {
          "output_type": "stream",
          "name": "stdout",
          "text": [
            "\n",
            "--- Final EDUCATION check ---\n",
            "EDUCATION\n",
            "2    14030\n",
            "1    10585\n",
            "3     4917\n",
            "4      468\n",
            "Name: count, dtype: int64\n",
            "\n",
            "--- Final MARRIAGE check ---\n",
            "MARRIAGE\n",
            "2    15964\n",
            "1    13659\n",
            "3      377\n",
            "Name: count, dtype: int64\n"
          ]
        }
      ]
    },
    {
      "cell_type": "code",
      "metadata": {
        "colab": {
          "base_uri": "https://localhost:8080/"
        },
        "id": "45e3cbef",
        "outputId": "6c775e91-df94-47c3-8541-0047fd3872fd"
      },
      "source": [
        "# 6. Conversión de Tipos de Datos\n",
        "\n",
        "# Identify columns that should be numeric but are of object type\n",
        "# Exclude 'default' as it will be our target variable (already appears to be numeric based on value_counts)\n",
        "# Exclude 'SEX', 'EDUCATION', 'MARRIAGE' as they are categorical, though currently object\n",
        "# Exclude 'ID' which was already dropped\n",
        "numeric_cols = ['credit_limit', 'AGE', 'PAY_0', 'PAY_2', 'PAY_3', 'PAY_4', 'PAY_5', 'PAY_6',\n",
        "                'BILL_AMT1', 'BILL_AMT2', 'BILL_AMT3', 'BILL_AMT4', 'BILL_AMT5', 'BILL_AMT6',\n",
        "                'PAY_AMT1', 'PAY_AMT2', 'PAY_AMT3', 'PAY_AMT4', 'PAY_AMT5', 'PAY_AMT6']\n",
        "\n",
        "for col in numeric_cols:\n",
        "    df[col] = pd.to_numeric(df[col], errors='coerce')\n",
        "\n",
        "# Check the data types after conversion\n",
        "print(\"\\n--- Información de la estructura después de la conversión (df.info()) ---\")\n",
        "df.info()\n",
        "\n",
        "# Verify if any NaNs were introduced by coercion\n",
        "print(\"\\n--- Conteo de Valores Faltantes después de la conversión (df.isna().sum()) ---\")\n",
        "print(df.isna().sum())"
      ],
      "execution_count": null,
      "outputs": [
        {
          "output_type": "stream",
          "name": "stdout",
          "text": [
            "\n",
            "--- Información de la estructura después de la conversión (df.info()) ---\n",
            "<class 'pandas.core.frame.DataFrame'>\n",
            "RangeIndex: 30000 entries, 1 to 30000\n",
            "Data columns (total 24 columns):\n",
            " #   Column        Non-Null Count  Dtype \n",
            "---  ------        --------------  ----- \n",
            " 0   credit_limit  30000 non-null  int64 \n",
            " 1   SEX           30000 non-null  object\n",
            " 2   EDUCATION     30000 non-null  object\n",
            " 3   MARRIAGE      30000 non-null  object\n",
            " 4   AGE           30000 non-null  int64 \n",
            " 5   PAY_0         30000 non-null  int64 \n",
            " 6   PAY_2         30000 non-null  int64 \n",
            " 7   PAY_3         30000 non-null  int64 \n",
            " 8   PAY_4         30000 non-null  int64 \n",
            " 9   PAY_5         30000 non-null  int64 \n",
            " 10  PAY_6         30000 non-null  int64 \n",
            " 11  BILL_AMT1     30000 non-null  int64 \n",
            " 12  BILL_AMT2     30000 non-null  int64 \n",
            " 13  BILL_AMT3     30000 non-null  int64 \n",
            " 14  BILL_AMT4     30000 non-null  int64 \n",
            " 15  BILL_AMT5     30000 non-null  int64 \n",
            " 16  BILL_AMT6     30000 non-null  int64 \n",
            " 17  PAY_AMT1      30000 non-null  int64 \n",
            " 18  PAY_AMT2      30000 non-null  int64 \n",
            " 19  PAY_AMT3      30000 non-null  int64 \n",
            " 20  PAY_AMT4      30000 non-null  int64 \n",
            " 21  PAY_AMT5      30000 non-null  int64 \n",
            " 22  PAY_AMT6      30000 non-null  int64 \n",
            " 23  default       30000 non-null  object\n",
            "dtypes: int64(20), object(4)\n",
            "memory usage: 5.5+ MB\n",
            "\n",
            "--- Conteo de Valores Faltantes después de la conversión (df.isna().sum()) ---\n",
            "credit_limit    0\n",
            "SEX             0\n",
            "EDUCATION       0\n",
            "MARRIAGE        0\n",
            "AGE             0\n",
            "PAY_0           0\n",
            "PAY_2           0\n",
            "PAY_3           0\n",
            "PAY_4           0\n",
            "PAY_5           0\n",
            "PAY_6           0\n",
            "BILL_AMT1       0\n",
            "BILL_AMT2       0\n",
            "BILL_AMT3       0\n",
            "BILL_AMT4       0\n",
            "BILL_AMT5       0\n",
            "BILL_AMT6       0\n",
            "PAY_AMT1        0\n",
            "PAY_AMT2        0\n",
            "PAY_AMT3        0\n",
            "PAY_AMT4        0\n",
            "PAY_AMT5        0\n",
            "PAY_AMT6        0\n",
            "default         0\n",
            "dtype: int64\n"
          ]
        }
      ]
    },
    {
      "cell_type": "code",
      "source": [
        "# 1. Feature: Utilization (Utilización del Crédito)\n",
        "# Usamos 'credit_limit' (LIMIT_BAL) y 'BILL_AMT1' (Balance de cuenta de este mes)\n",
        "df['utilization'] = df['BILL_AMT1'] / df['credit_limit']\n",
        "\n",
        "# --- Limpieza de la utilización: Limitar valores extremos ---\n",
        "# Es posible que el cliente gaste más que su límite, pero lo limitamos a 1.0 para normalizar.\n",
        "df['utilization'] = df['utilization'].apply(lambda x: min(x, 1.0))\n",
        "\n",
        "\n",
        "# 2. Feature: Average Payment Ratio (Ratio de Pago Promedio)\n",
        "# Suma de pagos / (Suma de facturas + 1 para evitar división por cero)\n",
        "# Esto mide si el cliente está pagando su deuda consistentemente.\n",
        "df['avg_payment_ratio'] = (df['PAY_AMT1'] + df['PAY_AMT2'] + df['PAY_AMT3']) / \\\n",
        "                          (df['BILL_AMT1'] + 1)\n",
        "\n",
        "# --- Limpieza del ratio de pago ---\n",
        "# Un ratio mayor a 1 significa que pagó más de lo que debía. Lo limitamos a 1.\n",
        "df['avg_payment_ratio'] = df['avg_payment_ratio'].apply(lambda x: min(x, 1.0))\n",
        "\n",
        "\n",
        "# 3. Feature: Late Payments Count (Conteo de Pagos Tardíos)\n",
        "# Contamos cuántas veces el cliente tuvo una demora (valor > 0 en PAY_x)\n",
        "# Seleccionamos todas las columnas PAY_x, verificamos si el valor es positivo (retraso),\n",
        "# y sumamos el resultado (True = 1, False = 0) a lo largo de las filas (axis=1).\n",
        "pay_cols = ['PAY_0', 'PAY_2', 'PAY_3', 'PAY_4', 'PAY_5', 'PAY_6']\n",
        "df['late_payments'] = (df[pay_cols] > 0).sum(axis=1)\n",
        "\n",
        "print(\"\\n--- ¡Features creados con éxito! ---\")\n",
        "print(df[['credit_limit', 'BILL_AMT1', 'utilization', 'avg_payment_ratio', 'late_payments']].head())"
      ],
      "metadata": {
        "colab": {
          "base_uri": "https://localhost:8080/"
        },
        "id": "qkJrho9oDiQg",
        "outputId": "9c3d3c65-8f13-49c2-937c-e345f2ef1c88"
      },
      "execution_count": null,
      "outputs": [
        {
          "output_type": "stream",
          "name": "stdout",
          "text": [
            "\n",
            "--- ¡Features creados con éxito! ---\n",
            "   credit_limit  BILL_AMT1  utilization  avg_payment_ratio  late_payments\n",
            "1         20000       3913     0.195650           0.176035              2\n",
            "2        120000       2682     0.022350           0.745434              2\n",
            "3         90000      29239     0.324878           0.137415              0\n",
            "4         50000      46990     0.939800           0.111064              0\n",
            "5         50000       8617     0.172340           1.000000              0\n"
          ]
        }
      ]
    },
    {
      "cell_type": "code",
      "metadata": {
        "colab": {
          "base_uri": "https://localhost:8080/"
        },
        "id": "0de7c94c",
        "outputId": "2dada7e3-dd76-4621-c5c6-26ff5dd3e052"
      },
      "source": [
        "# Define features (X) and target (y)\n",
        "X = df.drop('default', axis=1)\n",
        "y = df['default']\n",
        "\n",
        "# Display the shapes of X and y to confirm\n",
        "print(\"Shape of features (X):\", X.shape)\n",
        "print(\"Shape of target (y):\", y.shape)"
      ],
      "execution_count": null,
      "outputs": [
        {
          "output_type": "stream",
          "name": "stdout",
          "text": [
            "Shape of features (X): (30000, 29)\n",
            "Shape of target (y): (30000,)\n"
          ]
        }
      ]
    },
    {
      "cell_type": "code",
      "metadata": {
        "colab": {
          "base_uri": "https://localhost:8080/"
        },
        "id": "72779a04",
        "outputId": "4693fab3-7799-42e0-d93b-b91d740c4662"
      },
      "source": [
        "# 7. One-Hot Encoding for Categorical Features\n",
        "\n",
        "# Apply one-hot encoding to the categorical columns\n",
        "categorical_cols = ['SEX', 'EDUCATION', 'MARRIAGE']\n",
        "df = pd.get_dummies(df, columns=categorical_cols, drop_first=True) # drop_first=True to avoid multicollinearity\n",
        "\n",
        "print(\"\\n--- DataFrame after One-Hot Encoding (df.head()) ---\")\n",
        "print(df.head())\n",
        "\n",
        "print(\"\\n--- Information of the structure after One-Hot Encoding (df.info()) ---\")\n",
        "df.info()"
      ],
      "execution_count": null,
      "outputs": [
        {
          "output_type": "stream",
          "name": "stdout",
          "text": [
            "\n",
            "--- DataFrame after One-Hot Encoding (df.head()) ---\n",
            "   credit_limit  AGE  PAY_0  PAY_2  PAY_3  PAY_4  PAY_5  PAY_6  BILL_AMT1  \\\n",
            "1         20000   24      2      2     -1     -1     -2     -2       3913   \n",
            "2        120000   26     -1      2      0      0      0      2       2682   \n",
            "3         90000   34      0      0      0      0      0      0      29239   \n",
            "4         50000   37      0      0      0      0      0      0      46990   \n",
            "5         50000   57     -1      0     -1      0      0      0       8617   \n",
            "\n",
            "   BILL_AMT2  ...  default  utilization  avg_payment_ratio  late_payments  \\\n",
            "1       3102  ...        1     0.195650           0.176035              2   \n",
            "2       1725  ...        1     0.022350           0.745434              2   \n",
            "3      14027  ...        0     0.324878           0.137415              0   \n",
            "4      48233  ...        0     0.939800           0.111064              0   \n",
            "5       5670  ...        0     0.172340           1.000000              0   \n",
            "\n",
            "   SEX_2  EDUCATION_2  EDUCATION_3  EDUCATION_4  MARRIAGE_2  MARRIAGE_3  \n",
            "1   True         True        False        False       False       False  \n",
            "2   True         True        False        False        True       False  \n",
            "3   True         True        False        False        True       False  \n",
            "4   True         True        False        False       False       False  \n",
            "5  False         True        False        False       False       False  \n",
            "\n",
            "[5 rows x 30 columns]\n",
            "\n",
            "--- Information of the structure after One-Hot Encoding (df.info()) ---\n",
            "<class 'pandas.core.frame.DataFrame'>\n",
            "RangeIndex: 30000 entries, 1 to 30000\n",
            "Data columns (total 30 columns):\n",
            " #   Column             Non-Null Count  Dtype  \n",
            "---  ------             --------------  -----  \n",
            " 0   credit_limit       30000 non-null  int64  \n",
            " 1   AGE                30000 non-null  int64  \n",
            " 2   PAY_0              30000 non-null  int64  \n",
            " 3   PAY_2              30000 non-null  int64  \n",
            " 4   PAY_3              30000 non-null  int64  \n",
            " 5   PAY_4              30000 non-null  int64  \n",
            " 6   PAY_5              30000 non-null  int64  \n",
            " 7   PAY_6              30000 non-null  int64  \n",
            " 8   BILL_AMT1          30000 non-null  int64  \n",
            " 9   BILL_AMT2          30000 non-null  int64  \n",
            " 10  BILL_AMT3          30000 non-null  int64  \n",
            " 11  BILL_AMT4          30000 non-null  int64  \n",
            " 12  BILL_AMT5          30000 non-null  int64  \n",
            " 13  BILL_AMT6          30000 non-null  int64  \n",
            " 14  PAY_AMT1           30000 non-null  int64  \n",
            " 15  PAY_AMT2           30000 non-null  int64  \n",
            " 16  PAY_AMT3           30000 non-null  int64  \n",
            " 17  PAY_AMT4           30000 non-null  int64  \n",
            " 18  PAY_AMT5           30000 non-null  int64  \n",
            " 19  PAY_AMT6           30000 non-null  int64  \n",
            " 20  default            30000 non-null  object \n",
            " 21  utilization        30000 non-null  float64\n",
            " 22  avg_payment_ratio  29995 non-null  float64\n",
            " 23  late_payments      30000 non-null  int64  \n",
            " 24  SEX_2              30000 non-null  bool   \n",
            " 25  EDUCATION_2        30000 non-null  bool   \n",
            " 26  EDUCATION_3        30000 non-null  bool   \n",
            " 27  EDUCATION_4        30000 non-null  bool   \n",
            " 28  MARRIAGE_2         30000 non-null  bool   \n",
            " 29  MARRIAGE_3         30000 non-null  bool   \n",
            "dtypes: bool(6), float64(2), int64(21), object(1)\n",
            "memory usage: 5.7+ MB\n"
          ]
        }
      ]
    },
    {
      "cell_type": "code",
      "source": [
        "import numpy as np\n",
        "import pandas as pd\n",
        "\n",
        "# 1. Resolver el problema del tipo de dato en la variable objetivo (default)\n",
        "# Es object, lo convertimos a entero para que sklearn lo entienda.\n",
        "df['default'] = df['default'].astype(int)\n",
        "\n",
        "# 2. Resolver los 5 valores NaN en avg_payment_ratio usando la mediana\n",
        "# La mediana es más robusta a outliers que el promedio.\n",
        "median_ratio = df['avg_payment_ratio'].median()\n",
        "df['avg_payment_ratio'] = df['avg_payment_ratio'].fillna(median_ratio)\n",
        "\n",
        "# 3. Confirmación de Nulos y Tipo de Datos\n",
        "print(\"\\n--- Verificación de NaN y Tipo de Dato 'default' ---\")\n",
        "print(f\"Total de NaN después de la imputación: {df['avg_payment_ratio'].isna().sum()}\")\n",
        "print(f\"Tipo de dato final de 'default': {df['default'].dtype}\")\n",
        "\n",
        "# 4. Re-definir X y y con los datos limpios\n",
        "y = df['default']\n",
        "X = df.drop('default', axis=1)\n",
        "\n",
        "print(\"\\n--- ¡Data 100% lista para el modelado! ---\")\n",
        "print(f\"Número de features (X): {X.shape[1]}\")\n",
        "print(f\"Filas de datos para entrenamiento: {X.shape[0]}\")"
      ],
      "metadata": {
        "colab": {
          "base_uri": "https://localhost:8080/"
        },
        "id": "VGtYjY_jFkFK",
        "outputId": "07ea4519-890f-43df-aa68-4e5e89e39d57"
      },
      "execution_count": null,
      "outputs": [
        {
          "output_type": "stream",
          "name": "stdout",
          "text": [
            "\n",
            "--- Verificación de NaN y Tipo de Dato 'default' ---\n",
            "Total de NaN después de la imputación: 0\n",
            "Tipo de dato final de 'default': int64\n",
            "\n",
            "--- ¡Data 100% lista para el modelado! ---\n",
            "Número de features (X): 29\n",
            "Filas de datos para entrenamiento: 30000\n"
          ]
        }
      ]
    },
    {
      "cell_type": "code",
      "source": [
        "# Importar librerías de sklearn\n",
        "from sklearn.model_selection import train_test_split\n",
        "from sklearn.linear_model import LogisticRegression\n",
        "from sklearn.metrics import roc_auc_score, classification_report\n",
        "import joblib\n",
        "\n",
        "# 1. División de Datos (80% train, 20% test)\n",
        "# stratify=y asegura que el desbalance de clases se mantenga igual en ambos conjuntos.\n",
        "X_train, X_test, y_train, y_test = train_test_split(\n",
        "    X, y,\n",
        "    stratify=y,\n",
        "    test_size=0.2,\n",
        "    random_state=42\n",
        ")\n",
        "\n",
        "print(f\"Tamaño del conjunto de entrenamiento (X_train): {X_train.shape[0]}\")\n",
        "print(f\"Tamaño del conjunto de prueba (X_test): {X_test.shape[0]}\")\n",
        "\n",
        "\n",
        "# 2. Entrenamiento del Modelo de Regresión Logística\n",
        "# class_weight='balanced' ajusta automáticamente los pesos para penalizar los errores\n",
        "# en la clase minoritaria (default=1), ayudando a manejar el desbalance.\n",
        "clf = LogisticRegression(max_iter=5000, class_weight='balanced', random_state=42)",
        "clf.fit(X_train, y_train)\n",
        "\n",
        "\n",
        "# 3. Predicción y Evaluación\n",
        "# Predecir probabilidades para el AUC (necesita un valor entre 0 y 1)\n",
        "probs = clf.predict_proba(X_test)[:, 1] # Selecciona la probabilidad de la clase 1 (default)\n",
        "\n",
        "# Predecir etiquetas (0 o 1) para el Classification Report\n",
        "predictions = clf.predict(X_test)\n",
        "\n",
        "# Métricas\n",
        "auc_score = roc_auc_score(y_test, probs)\n",
        "\n",
        "print(\"\\n--- Resultados del Modelo Base (Regresión Logística) ---\")\n",
        "print(f\"AUC Score: {auc_score:.4f}\")\n",
        "print(\"\\nClassification Report:\\n\", classification_report(y_test, predictions))\n",
        "\n",
        "\n",
        "# 4. Guardar el Modelo (Según tu plan)\n",
        "# joblib.dump(clf, 'models/logistic_model.pkl')\n",
        "# print(\"\\nModelo guardado en models/logistic_model.pkl\")\n",
        "# Nota: Si estás en Colab, asegúrate de crear la carpeta 'models' o simplemente guarda en el directorio raíz."
      ],
      "metadata": {
        "colab": {
          "base_uri": "https://localhost:8080/"
        },
        "id": "PU1tYngWVNvM",
        "outputId": "c1017ab6-76df-48e4-d54f-e05c1a5817bf"
      },
      "execution_count": null,
      "outputs": [
        {
          "output_type": "stream",
          "name": "stdout",
          "text": [
            "Tamaño del conjunto de entrenamiento (X_train): 24000\n",
            "Tamaño del conjunto de prueba (X_test): 6000\n",
            "\n",
            "--- Resultados del Modelo Base (Regresión Logística) ---\n",
            "AUC Score: 0.7028\n",
            "\n",
            "Classification Report:\n",
            "               precision    recall  f1-score   support\n",
            "\n",
            "           0       0.87      0.59      0.70      4673\n",
            "           1       0.32      0.68      0.43      1327\n",
            "\n",
            "    accuracy                           0.61      6000\n",
            "   macro avg       0.59      0.63      0.57      6000\n",
            "weighted avg       0.75      0.61      0.64      6000\n",
            "\n"
          ]
        },
        {
          "output_type": "stream",
          "name": "stderr",
          "text": [
            "/usr/local/lib/python3.12/dist-packages/sklearn/linear_model/_logistic.py:465: ConvergenceWarning: lbfgs failed to converge (status=1):\n",
            "STOP: TOTAL NO. OF ITERATIONS REACHED LIMIT.\n",
            "\n",
            "Increase the number of iterations (max_iter) or scale the data as shown in:\n",
            "    https://scikit-learn.org/stable/modules/preprocessing.html\n",
            "Please also refer to the documentation for alternative solver options:\n",
            "    https://scikit-learn.org/stable/modules/linear_model.html#logistic-regression\n",
            "  n_iter_i = _check_optimize_result(\n"
          ]
        }
      ]
    },
    {
      "cell_type": "code",
      "source": [
        "# Importar Random Forest y re-importar métricas\n",
        "from sklearn.ensemble import RandomForestClassifier\n",
        "from sklearn.metrics import roc_auc_score, roc_curve\n",
        "import matplotlib.pyplot as plt\n",
        "import joblib\n",
        "import os # Import the os module\n",
        "\n",
        "# 1. Entrenar el modelo de Random Forest\n",
        "# Usamos class_weight='balanced' para seguir manejando el desbalance de clases.\n",
        "rf_model = RandomForestClassifier(\n",
        "    n_estimators=200,      # Número de árboles\n",
        "    max_depth=10,          # Profundidad máxima para evitar sobreajuste extremo\n",
        "    random_state=42,\n",
        "    class_weight='balanced',\n",
        "    n_jobs=-1              # Usa todos los núcleos de la CPU disponibles (más rápido)\n",
        ")\n",
        "rf_model.fit(X_train, y_train)\n",
        "\n",
        "# 2. Predicción de Probabilidades\n",
        "rf_probs = rf_model.predict_proba(X_test)[:, 1]\n",
        "\n",
        "# 3. Evaluación del AUC\n",
        "rf_auc = roc_auc_score(y_test, rf_probs)\n",
        "\n",
        "print(\"\\n--- Resultados del Modelo Random Forest ---\")\n",
        "print(f\"Random Forest AUC Score: {rf_auc:.4f}\")\n",
        "\n",
        "# 4. Obtener la importancia de las variables (Feature Importance)\n",
        "feature_importances = pd.Series(\n",
        "    rf_model.feature_importances_,\n",
        "    index=X.columns\n",
        ").sort_values(ascending=False)\n",
        "\n",
        "# 5. Visualizar la Importancia de las Características (Top 10)\n",
        "plt.figure(figsize=(10, 6))\n",
        "feature_importances.head(10).plot(kind='bar')\n",
        "plt.title('Top 10 Feature Importances (Random Forest)')\n",
        "plt.ylabel('Importancia')\n",
        "plt.xlabel('Característica')\n",
        "plt.xticks(rotation=45, ha='right')\n",
        "plt.tight_layout()\n",
        "plt.savefig('top_10_features_rf.png') # Guardamos la imagen\n",
        "plt.show()\n",
        "\n",
        "# 6. Guardar el modelo Random Forest\n",
        "# Create the 'models' directory if it doesn't exist\n",
        "if not os.path.exists('models'):\n",
        "    os.makedirs('models')\n",
        "\n",
        "joblib.dump(rf_model, 'models/random_forest_model.pkl')\n",
        "print(\"\\nModelo Random Forest guardado en models/random_forest_model.pkl\")"
      ],
      "metadata": {
        "colab": {
          "base_uri": "https://localhost:8080/",
          "height": 694
        },
        "id": "wfLs6rAKWqA8",
        "outputId": "cad9fa1d-b209-4531-d51b-af2550c91fd3"
      },
      "execution_count": null,
      "outputs": [
        {
          "output_type": "stream",
          "name": "stdout",
          "text": [
            "\n",
            "--- Resultados del Modelo Random Forest ---\n",
            "Random Forest AUC Score: 0.7755\n"
          ]
        },
        {
          "output_type": "display_data",
          "data": {
            "text/plain": [
              "<Figure size 1000x600 with 1 Axes>"
            ],
            "image/png": "[encoded data removed]"
          },
          "metadata": {}
        },
        {
          "output_type": "stream",
          "name": "stdout",
          "text": [
            "\n",
            "Modelo Random Forest guardado en models/random_forest_model.pkl\n"
          ]
        }
      ]
    },
    {
      "cell_type": "code",
      "source": [
        "# Asegúrate de que rf_model y X_test existen de la ejecución anterior.\n",
        "\n",
        "# 1. Crear la columna de probabilidad predicha por Random Forest\n",
        "# Get the probability of the positive class (default = 1)\n",
        "rf_probs = rf_model.predict_proba(X)[:, 1] # Obtenemos la probabilidad para todo el dataset X\n",
        "\n",
        "# 2. Crear el DataFrame de Resultados (DataFrame de todo el dataset, no solo el test set)\n",
        "dashboard_df = df.copy() # Usamos el DataFrame original limpio\n",
        "dashboard_df['predicted_prob'] = rf_probs\n",
        "\n",
        "# 3. Seleccionar las columnas clave para Tableau\n",
        "# Las variables importantes + las variables demográficas clave para segmentación.\n",
        "tableau_cols = [\n",
        "    'AGE',\n",
        "    'credit_limit', # LIMIT_BAL\n",
        "    'utilization',\n",
        "    'late_payments',\n",
        "    'default',\n",
        "    'predicted_prob'\n",
        "]\n",
        "\n",
        "final_export_df = dashboard_df[tableau_cols].copy()\n",
        "\n",
        "# 4. Exportar el CSV\n",
        "export_filename = 'tableau_export_data.csv'\n",
        "final_export_df.to_csv(export_filename, index=False)\n",
        "\n",
        "print(\"\\n--- Exportación a Tableau Exitosa ---\")\n",
        "print(f\"Archivo creado: {export_filename}\")\n",
        "print(\"Columnas exportadas:\", final_export_df.columns.tolist())"
      ],
      "metadata": {
        "colab": {
          "base_uri": "https://localhost:8080/"
        },
        "id": "7x3ya2s9YYP_",
        "outputId": "772341fe-38fa-400c-9e81-d872d6afeefc"
      },
      "execution_count": null,
      "outputs": [
        {
          "output_type": "stream",
          "name": "stdout",
          "text": [
            "\n",
            "--- Exportación a Tableau Exitosa ---\n",
            "Archivo creado: tableau_export_data.csv\n",
            "Columnas exportadas: ['AGE', 'credit_limit', 'utilization', 'late_payments', 'default', 'predicted_prob']\n"
          ]
        }
      ]
    }
  ]
}
